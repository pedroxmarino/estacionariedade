{
 "cells": [
  {
   "cell_type": "markdown",
   "metadata": {},
   "source": [
    "# Estacionariedade em Séries Temporais "
   ]
  },
  {
   "cell_type": "markdown",
   "metadata": {},
   "source": [
    "Componentes de uma série temporal:\n",
    "\n",
    "- Tendência: Uma tendência existe quando há um aumento ou diminuição de longo prazo nos dados. Não precisa ser linear. Às vezes, nos referiremos a uma tendência como “mudança de direção”, quando ela pode passar de uma tendência crescente para uma tendência decrescente.\n",
    "\n",
    "- Sazonalidade: Um padrão sazonal ocorre quando uma série temporal é afetada por fatores sazonais, como a época do ano ou o dia da semana. A sazonalidade é sempre de um período fixo e conhecido.\n",
    "\n",
    "- Ciclo e o Termo de erro: Um ciclo ocorre quando os dados exibem aumentos e quedas que não são de uma frequência fixa. Essas flutuações geralmente são devidas a condições econômicas e geralmente estão relacionadas ao “ciclo de negócios”. A duração dessas flutuações é geralmente de pelo menos 2 anos.\n",
    "\n",
    "Quando decompomos uma série temporal em componentes, geralmente combinamos a tendência e o ciclo em um único componente de ciclo de tendência (geralmente chamado apenas de tendência para simplificar).\n",
    "\n",
    "Assim, podemos pensar em uma série temporal como compreendendo três componentes: um componente de ciclo de tendência, um componente sazonal e um componente restante/termo de erro, em que este último representa qualquer outra coisa na série temporal, além dos outros componentes.\n",
    "\n",
    "$$ y_t = \\ S_t +  \\ T_t  +  \\ R_t $$\n",
    "\n",
    "\n",
    "Onde, no tempo t, y_t é uma série temporal, \\ T_t é uma tendência, \\ S_t é um efeito sazonal e \\ R_t é um termo de erro.\n",
    "\n",
    "Alternativamente, temos a decomposição multiplicativa:\n",
    "\n",
    "$$ y_t = \\ S_t  \\cdot  \\ T_t  \\cdot  \\ R_t $$\n",
    "\n",
    "A decomposição aditiva é a mais adequada se a magnitude das flutuações sazonais, ou a variação em torno do ciclo de tendência, não varia com o nível da série temporal.\n",
    "\n",
    "Quando a variação no padrão sazonal, ou a variação em torno do ciclo de tendência, parece ser proporcional ao nível da série temporal, então uma decomposição multiplicativa é mais apropriada. Decomposições multiplicativas são comuns em séries temporais econômicas."
   ]
  },
  {
   "cell_type": "markdown",
   "metadata": {},
   "source": [
    "# Tipos de processos\n",
    "Ao avaliar um processo, devemos ter em mente qual o comportamento de suas distribuição, e portanto, das funções da distribuição:\n",
    "\n",
    "1) Função da média: \n",
    "\n",
    "$$ u_t = E[y_t] $$\n",
    "\n",
    "2) Função da Variância:\n",
    "$$ \\sigma^2 = Var[y_t] $$\n",
    "\n",
    "3) Função da autocovariância/autocorrelação\n",
    "\n",
    "$$ \\gamma = \\mathbb{E}[(y_t - \\mu)(y_{t-k} - \\mu)] \\quad \\rho = \\frac{\\gamma}{\\sigma^2} $$"
   ]
  },
  {
   "cell_type": "markdown",
   "metadata": {},
   "source": [
    "# Processos Estacionários\n",
    "\n",
    "Uma série temporal estacionária é aquela cujas propriedades estatísticas não dependem do momento em que a série é observada. Portanto, séries temporais com tendências ou sazonalidades não são estacionárias - a tendência e a sazonalidade afetarão o valor da série temporal em momentos diferentes.\n",
    "\n",
    "Por outro lado, uma série de ruído branco é estacionária - não importa quando você a observe, ela deve parecer muito semelhante em qualquer ponto no tempo.\n",
    "\n",
    "Alguns casos podem ser confusos - uma série temporal com comportamento cíclico (mas sem tendência ou sazonalidade) é estacionária. Isso ocorre porque os ciclos não têm um comprimento fixo, portanto, antes de observarmos a série, não podemos ter certeza de onde estarão os picos e vales dos ciclos.\n",
    "\n",
    "Em geral, uma série temporal estacionária não terá padrões previsíveis a longo prazo. Os gráficos das séries mostrarão que a série é aproximadamente horizontal (embora algum comportamento cíclico seja possível), com variância constante.\n",
    "\n",
    "A estacionariedade descreve o conceito de que a forma como uma série temporal está se alterando permanecerá a mesma no futuro. Em termos matemáticos, uma série temporal é estacionária quando suas propriedades estatísticas são independentes do tempo:\n",
    "\n",
    "- Média constante;\n",
    "\n",
    "- Variância constante;\n",
    "\n",
    "- Covariância é independente do tempo.\n",
    "\n",
    "Outro tipo de estacionariedade é a estacionariedade estrita, que implica que amostras de tamanho idêntico têm distribuições idênticas. Como a estacionariedade estrita é restritiva é rara, concentraremos apenas na estacionariedade no sentido amplo.\n",
    "\n",
    "Alguns modelos de previsão de séries temporais (por exemplo, modelos autorregressivos) requerem uma série temporal estacionária, pois são mais fáceis de modelar devido às suas propriedades estatísticas constantes. Portanto, é recomendado tornar a série temporal estacionária caso ela não seja.\n",
    "\n",
    "# Processos Não Estacionários\n",
    "\n",
    "Um processo estocástico é considerado não estacionário se suas propriedades estatísticas variarem ao longo do tempo. Isso pode incluir tendências, flutuações sazonais ou mudanças estruturais.\n",
    "\n",
    "Um processo não estacionário pode apresentar média e/ou variância que mudam ao longo do tempo, tornando suas propriedades estatísticas dependentes do tempo. Esses processos são mais complexos de modelar e prever, uma vez que suas características estatísticas estão em constante evolução."
   ]
  },
  {
   "cell_type": "markdown",
   "metadata": {},
   "source": [
    "# Como verificar a estacionariedade?\n",
    "\n",
    "Uma raiz unitária é uma tendência estocástica, isto é, um passeio aleatório com drif. Como o comportamento aleatório não pode ser previsto, isso significa:\n",
    "\n",
    "- Presença de raiz unitária: não estacionária (imprevisível);\n",
    "\n",
    "- Ausência de raiz unitária: estacionária.\n",
    "\n",
    "Existem vários testes de raiz unitária que você pode usar para verificar a estacionariedade, dentre eles temos: \n",
    "\n",
    "- Teste de Dickey-Fuller Aumentado (ADF);\n",
    "\n",
    "- Teste de Kwiatkowski-Phillips-Schmidt-Shin (KPSS).\n",
    "\n",
    "# Teste de Dickey-Fuller Aumentado\n",
    "\n",
    "As hipóteses para o teste de Dickey-Fuller Aumentado (ADF) são:\n",
    "\n",
    "- Hipótese nula (H0): A série temporal não é estacionária porque há uma raiz unitária (se o valor-p > 0,05);\n",
    "\n",
    "- Hipótese alternativa (H1): A série temporal é estacionária porque não há raiz unitária (se o valor-p ≤ 0,05).\n"
   ]
  },
  {
   "cell_type": "code",
   "execution_count": 1,
   "metadata": {},
   "outputs": [],
   "source": [
    "# Importar bibliotecas\n",
    "import numpy as np\n",
    "from bcb import sgs\n",
    "import statsmodels.api as sm\n",
    "from statsmodels.tsa.stattools import adfuller\n",
    "from statsmodels.tsa.stattools import kpss"
   ]
  },
  {
   "cell_type": "code",
   "execution_count": 2,
   "metadata": {},
   "outputs": [
    {
     "data": {
      "text/html": [
       "<div>\n",
       "<style scoped>\n",
       "    .dataframe tbody tr th:only-of-type {\n",
       "        vertical-align: middle;\n",
       "    }\n",
       "\n",
       "    .dataframe tbody tr th {\n",
       "        vertical-align: top;\n",
       "    }\n",
       "\n",
       "    .dataframe thead th {\n",
       "        text-align: right;\n",
       "    }\n",
       "</style>\n",
       "<table border=\"1\" class=\"dataframe\">\n",
       "  <thead>\n",
       "    <tr style=\"text-align: right;\">\n",
       "      <th></th>\n",
       "      <th>selic</th>\n",
       "      <th>ipca</th>\n",
       "    </tr>\n",
       "    <tr>\n",
       "      <th>Date</th>\n",
       "      <th></th>\n",
       "      <th></th>\n",
       "    </tr>\n",
       "  </thead>\n",
       "  <tbody>\n",
       "    <tr>\n",
       "      <th>2005-01-01</th>\n",
       "      <td>1.38</td>\n",
       "      <td>0.58</td>\n",
       "    </tr>\n",
       "    <tr>\n",
       "      <th>2005-02-01</th>\n",
       "      <td>1.22</td>\n",
       "      <td>0.59</td>\n",
       "    </tr>\n",
       "    <tr>\n",
       "      <th>2005-03-01</th>\n",
       "      <td>1.53</td>\n",
       "      <td>0.61</td>\n",
       "    </tr>\n",
       "    <tr>\n",
       "      <th>2005-04-01</th>\n",
       "      <td>1.41</td>\n",
       "      <td>0.87</td>\n",
       "    </tr>\n",
       "    <tr>\n",
       "      <th>2005-05-01</th>\n",
       "      <td>1.50</td>\n",
       "      <td>0.49</td>\n",
       "    </tr>\n",
       "    <tr>\n",
       "      <th>...</th>\n",
       "      <td>...</td>\n",
       "      <td>...</td>\n",
       "    </tr>\n",
       "    <tr>\n",
       "      <th>2023-12-01</th>\n",
       "      <td>0.89</td>\n",
       "      <td>0.56</td>\n",
       "    </tr>\n",
       "    <tr>\n",
       "      <th>2024-01-01</th>\n",
       "      <td>0.97</td>\n",
       "      <td>0.42</td>\n",
       "    </tr>\n",
       "    <tr>\n",
       "      <th>2024-02-01</th>\n",
       "      <td>0.80</td>\n",
       "      <td>0.83</td>\n",
       "    </tr>\n",
       "    <tr>\n",
       "      <th>2024-03-01</th>\n",
       "      <td>0.83</td>\n",
       "      <td>0.16</td>\n",
       "    </tr>\n",
       "    <tr>\n",
       "      <th>2024-04-01</th>\n",
       "      <td>0.89</td>\n",
       "      <td>0.38</td>\n",
       "    </tr>\n",
       "  </tbody>\n",
       "</table>\n",
       "<p>232 rows × 2 columns</p>\n",
       "</div>"
      ],
      "text/plain": [
       "            selic  ipca\n",
       "Date                   \n",
       "2005-01-01   1.38  0.58\n",
       "2005-02-01   1.22  0.59\n",
       "2005-03-01   1.53  0.61\n",
       "2005-04-01   1.41  0.87\n",
       "2005-05-01   1.50  0.49\n",
       "...           ...   ...\n",
       "2023-12-01   0.89  0.56\n",
       "2024-01-01   0.97  0.42\n",
       "2024-02-01   0.80  0.83\n",
       "2024-03-01   0.83  0.16\n",
       "2024-04-01   0.89  0.38\n",
       "\n",
       "[232 rows x 2 columns]"
      ]
     },
     "execution_count": 2,
     "metadata": {},
     "output_type": "execute_result"
    }
   ],
   "source": [
    "tabela = sgs.get(\n",
    "    codes = {\"selic\": 4390,\n",
    "             \"ipca\": 433},\n",
    "    start = \"2005-01-01\",\n",
    "    end= \"2024-06-06\"\n",
    ").dropna()\n",
    "tabela"
   ]
  },
  {
   "cell_type": "code",
   "execution_count": 5,
   "metadata": {},
   "outputs": [],
   "source": [
    "# Realizar o teste ADF\n",
    "adf_ipca_ct = adfuller(tabela[\"ipca\"], maxlag = 3, regression = \"ct\")"
   ]
  },
  {
   "cell_type": "code",
   "execution_count": 6,
   "metadata": {},
   "outputs": [
    {
     "name": "stdout",
     "output_type": "stream",
     "text": [
      "Teste ADF com drift e tendência do IPCA\n",
      "Estatística do teste:  -7.795622963132762\n",
      "Valor Crítico:\n",
      "1% :  -3.998504541286253\n",
      "5% :  -3.429669078807414\n",
      "10% :  -3.1383184448027004\n"
     ]
    }
   ],
   "source": [
    "# Imprimir valores\n",
    "print(\"Teste ADF com drift e tendência do IPCA\")\n",
    "print(\"Estatística do teste: \", adf_ipca_ct[0])\n",
    "print(\"Valor Crítico:\")\n",
    "for key, value in adf_ipca_ct[4].items():\n",
    "    print(key, \": \", value)\n"
   ]
  },
  {
   "cell_type": "code",
   "execution_count": 7,
   "metadata": {},
   "outputs": [],
   "source": [
    "# Realizar o teste ADF\n",
    "adf_selic_ct = adfuller(tabela[\"selic\"], maxlag = 3, regression = \"ct\")"
   ]
  },
  {
   "cell_type": "code",
   "execution_count": 9,
   "metadata": {},
   "outputs": [
    {
     "name": "stdout",
     "output_type": "stream",
     "text": [
      "Teste ADF com drift e tendência da SELIC\n",
      "Estatística do teste:  -2.3333739414154917\n",
      "Valor Crítico:\n",
      "1% :  -3.9990347583703216\n",
      "5% :  -3.4299237913352556\n",
      "10% :  -3.138467743111241\n"
     ]
    }
   ],
   "source": [
    "# Imprimir valores\n",
    "print(\"Teste ADF com drift e tendência da SELIC\")\n",
    "print(\"Estatística do teste: \", adf_selic_ct[0])\n",
    "print(\"Valor Crítico:\")\n",
    "for key, value in adf_selic_ct[4].items():\n",
    "    print(key, \": \", value)\n"
   ]
  }
 ],
 "metadata": {
  "kernelspec": {
   "display_name": "base",
   "language": "python",
   "name": "python3"
  },
  "language_info": {
   "codemirror_mode": {
    "name": "ipython",
    "version": 3
   },
   "file_extension": ".py",
   "mimetype": "text/x-python",
   "name": "python",
   "nbconvert_exporter": "python",
   "pygments_lexer": "ipython3",
   "version": "3.11.7"
  }
 },
 "nbformat": 4,
 "nbformat_minor": 2
}
